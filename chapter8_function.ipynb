{
 "cells": [
  {
   "cell_type": "code",
   "execution_count": 1,
   "metadata": {},
   "outputs": [
    {
     "name": "stdout",
     "output_type": "stream",
     "text": [
      "I am going to learn function in this chapter.\n"
     ]
    }
   ],
   "source": [
    "# 8-1 message\n",
    "def display_message():\n",
    "    print('I am going to learn function in this chapter.')\n",
    "\n",
    "display_message()"
   ]
  },
  {
   "cell_type": "code",
   "execution_count": 2,
   "metadata": {},
   "outputs": [
    {
     "name": "stdout",
     "output_type": "stream",
     "text": [
      "One of my favorite books is Gone In The Wind.\n"
     ]
    }
   ],
   "source": [
    "# 8-2 favorite books\n",
    "def favorite_book(title):\n",
    "    print(f\"One of my favorite books is {title}.\")\n",
    "\n",
    "favorite_book('Gone In The Wind')"
   ]
  },
  {
   "cell_type": "code",
   "execution_count": 4,
   "metadata": {},
   "outputs": [
    {
     "name": "stdout",
     "output_type": "stream",
     "text": [
      "The size of shirt is 42, it has hello on it.\n",
      "The size of shirt is 52, it has beautiful on it.\n"
     ]
    }
   ],
   "source": [
    "# 8-3 shirt\n",
    "\n",
    "def make_shirt(size, word):\n",
    "    print(f\"The size of shirt is {size}, it has {word} on it.\")\n",
    "\n",
    "make_shirt(42, 'hello')\n",
    "make_shirt(size = 52, word = 'beautiful')"
   ]
  },
  {
   "cell_type": "code",
   "execution_count": 5,
   "metadata": {},
   "outputs": [
    {
     "name": "stdout",
     "output_type": "stream",
     "text": [
      "The size of shirt is 42, it has I love Python on it.\n",
      "The size of shirt is 21, it has I love Python on it.\n",
      "The size of shirt is 52, it has beautiful on it.\n"
     ]
    }
   ],
   "source": [
    "# 8-4 big shirt\n",
    "\n",
    "def make_shirt(size, word='I love Python'):\n",
    "    print(f\"The size of shirt is {size}, it has {word} on it.\")\n",
    "\n",
    "make_shirt(42)\n",
    "make_shirt(size=21)\n",
    "make_shirt(size = 52, word = 'beautiful')"
   ]
  },
  {
   "cell_type": "code",
   "execution_count": 7,
   "metadata": {},
   "outputs": [
    {
     "name": "stdout",
     "output_type": "stream",
     "text": [
      "jinan is in china.\n",
      "beijing is in china.\n",
      "newyork is in USA.\n"
     ]
    }
   ],
   "source": [
    "# 8-5 city\n",
    "\n",
    "def describe_city(name, nation='china'):\n",
    "    print(f\"{name} is in {nation}.\")\n",
    "\n",
    "describe_city(name='jinan', nation='china')\n",
    "describe_city('beijing')\n",
    "describe_city(name='newyork', nation='USA')"
   ]
  },
  {
   "cell_type": "code",
   "execution_count": 8,
   "metadata": {},
   "outputs": [
    {
     "name": "stdout",
     "output_type": "stream",
     "text": [
      "Jinan, China\n",
      "Beijing, China\n",
      "Newyork, Usa\n"
     ]
    }
   ],
   "source": [
    "# 8-6 city name\n",
    "def city_country(city, nation):\n",
    "    intro = f\"{city}, {nation}\"\n",
    "    return intro.title()\n",
    "\n",
    "city1 = city_country('jinan', 'china')\n",
    "city2 = city_country('beijing', 'china')\n",
    "city3 = city_country('newyork', 'USA')\n",
    "print(city1)\n",
    "print(city2)\n",
    "print(city3)"
   ]
  },
  {
   "cell_type": "code",
   "execution_count": 12,
   "metadata": {},
   "outputs": [
    {
     "name": "stdout",
     "output_type": "stream",
     "text": [
      "{'jack': 'A', 'number': 42}\n",
      "{'ross': 'B'}\n",
      "{'dick': 'C'}\n"
     ]
    }
   ],
   "source": [
    "# 8-7 album\n",
    "def make_album(singer, name, num = None):\n",
    "    \n",
    "    if num:\n",
    "        intro = {singer: name ,'number': num}\n",
    "    else:\n",
    "        intro = {singer: name }\n",
    "\n",
    "    return intro\n",
    "    \n",
    "\n",
    "album1 = make_album('jack', 'A', 42)\n",
    "print(album1)\n",
    "album2 = make_album('ross', 'B')\n",
    "print(album2)\n",
    "album3 = make_album('dick', 'C')\n",
    "print(album3)"
   ]
  },
  {
   "cell_type": "code",
   "execution_count": 13,
   "metadata": {},
   "outputs": [
    {
     "name": "stdout",
     "output_type": "stream",
     "text": [
      "{'zhou': 'ales', 'number': '23'}\n",
      "{'asdj': 'asd', 'number': '2'}\n"
     ]
    }
   ],
   "source": [
    "# 8-8 album of users\n",
    "def make_album(singer, name, num = None):\n",
    "    \n",
    "    if num:\n",
    "        intro = {singer: name ,'number': num}\n",
    "    else:\n",
    "        intro = {singer: name }\n",
    "\n",
    "    return intro\n",
    "    \n",
    "while True:\n",
    "    singer = input('Please enter the name of the singer')\n",
    "    name = input(\"Please enter the name of album.\")\n",
    "    number = input('Please enter the number of songs.')\n",
    "    album = make_album(singer=singer, name=name, num=number)\n",
    "    print(album)\n",
    "    activate = input(\"Do you want to quit?\")\n",
    "    if activate == 'yes':\n",
    "        break\n",
    "\n"
   ]
  },
  {
   "cell_type": "code",
   "execution_count": 15,
   "metadata": {},
   "outputs": [
    {
     "name": "stdout",
     "output_type": "stream",
     "text": [
      "test\n",
      "examine\n",
      "project\n"
     ]
    }
   ],
   "source": [
    "# 8-9 message\n",
    "def show_message(messages):\n",
    "    for message in messages:\n",
    "        print(message)\n",
    "messages = ['test', 'examine', 'project']\n",
    "show_message(messages)"
   ]
  },
  {
   "cell_type": "code",
   "execution_count": 23,
   "metadata": {},
   "outputs": [
    {
     "name": "stdout",
     "output_type": "stream",
     "text": [
      "test\n",
      "examine\n",
      "project\n",
      "Sending message project\n",
      "Sending message examine\n",
      "Sending message test\n",
      "project\n",
      "examine\n",
      "test\n"
     ]
    }
   ],
   "source": [
    "# 8-10 send message\n",
    "\n",
    "def send_message(unsent_messages, sent_messages):\n",
    "    while unsent_messages:\n",
    "        message = unsent_messages.pop()\n",
    "        print(f\"Sending message {message}\")\n",
    "        sent_messages.append(message)\n",
    "\n",
    "def show_message(messages):\n",
    "    for message in messages:\n",
    "        print(message)\n",
    "\n",
    "sent_messages = []\n",
    "messages = ['test', 'examine', 'project']\n",
    "show_message(messages)\n",
    "send_message(messages, sent_messages)\n",
    "show_message(sent_messages)"
   ]
  },
  {
   "cell_type": "code",
   "execution_count": 22,
   "metadata": {},
   "outputs": [
    {
     "name": "stdout",
     "output_type": "stream",
     "text": [
      "['test', 'examine', 'project']\n",
      "test\n",
      "examine\n",
      "project\n",
      "Sending message project\n",
      "Sending message examine\n",
      "Sending message test\n",
      "===============\n",
      "project\n",
      "examine\n",
      "test\n",
      "===============\n",
      "test\n",
      "examine\n",
      "project\n"
     ]
    }
   ],
   "source": [
    "# 8-11 store message\n",
    "\n",
    "def send_message(unsent_messages, sent_messages):\n",
    "    while unsent_messages:\n",
    "        message = unsent_messages.pop()\n",
    "        print(f\"Sending message {message}\")\n",
    "        sent_messages.append(message)\n",
    "\n",
    "def show_message(messages):\n",
    "    for message in messages:\n",
    "        print(message)\n",
    "\n",
    "sent_messages = []\n",
    "messages = ['test', 'examine', 'project']\n",
    "print(messages[:])\n",
    "show_message(messages)\n",
    "send_message(messages[:], sent_messages)\n",
    "print(\"=\"*15)\n",
    "show_message(sent_messages)\n",
    "print(\"=\"*15)\n",
    "show_message(messages)\n"
   ]
  },
  {
   "cell_type": "code",
   "execution_count": 24,
   "metadata": {},
   "outputs": [
    {
     "name": "stdout",
     "output_type": "stream",
     "text": [
      "This sandwich include following toppings.\n",
      "-onion\n",
      "-tomato\n",
      "This sandwich include following toppings.\n",
      "-onion\n",
      "-tomato\n",
      "-tomato\n",
      "This sandwich include following toppings.\n",
      "-cheese\n"
     ]
    }
   ],
   "source": [
    "# 8-12 sandwich\n",
    "\n",
    "def sandwich_info(*toppings):\n",
    "    '''display which toppings to add'''\n",
    "    print('This sandwich include following toppings.')\n",
    "    for topping in toppings:\n",
    "        print(f\"-{topping}\")\n",
    "\n",
    "sandwich_info('onion', 'tomato')\n",
    "sandwich_info('onion','tomato', 'tomato')\n",
    "sandwich_info('cheese')"
   ]
  },
  {
   "cell_type": "code",
   "execution_count": 26,
   "metadata": {},
   "outputs": [
    {
     "name": "stdout",
     "output_type": "stream",
     "text": [
      "{'gender': 'male', 'lolation': 'chengdu', 'field': 'biomedical engineering', 'firstname': 'beaver', 'lastname': 'sun'}\n"
     ]
    }
   ],
   "source": [
    "# 8-13 user info\n",
    "\n",
    "def build_profile(first, last, **user_info):\n",
    "    '''take the information of a user and save it in a dictionary'''\n",
    "    user_info['firstname'] = first\n",
    "    user_info['lastname'] = last\n",
    "    return user_info\n",
    "\n",
    "user_profile = build_profile('albert', 'einstein',\n",
    "                             lolation = 'princeton',\n",
    "                             field = 'physics')\n",
    "user_profile_1 = build_profile('beaver', 'sun',\n",
    "                               gender = 'male',\n",
    "                             lolation = 'chengdu',\n",
    "                             field = 'biomedical engineering')\n",
    "\n",
    "print(user_profile_1)"
   ]
  },
  {
   "cell_type": "code",
   "execution_count": 27,
   "metadata": {},
   "outputs": [
    {
     "name": "stdout",
     "output_type": "stream",
     "text": [
      "{'color': 'blue', 'tow_package': True, 'builder': 'subaru', 'type': 'outback'}\n"
     ]
    }
   ],
   "source": [
    "# 8-14 car\n",
    "\n",
    "def make_car(builder, type, **car_info):\n",
    "    '''take the information of a car and save it in a dictionary'''\n",
    "    car_info['builder'] = builder\n",
    "    car_info['type'] = type\n",
    "    return car_info\n",
    "\n",
    "car = make_car('subaru', 'outback', color = 'blue', tow_package = True)\n",
    "print(car)"
   ]
  },
  {
   "cell_type": "code",
   "execution_count": null,
   "metadata": {},
   "outputs": [],
   "source": []
  }
 ],
 "metadata": {
  "kernelspec": {
   "display_name": "base",
   "language": "python",
   "name": "python3"
  },
  "language_info": {
   "codemirror_mode": {
    "name": "ipython",
    "version": 3
   },
   "file_extension": ".py",
   "mimetype": "text/x-python",
   "name": "python",
   "nbconvert_exporter": "python",
   "pygments_lexer": "ipython3",
   "version": "3.10.9"
  },
  "orig_nbformat": 4
 },
 "nbformat": 4,
 "nbformat_minor": 2
}
