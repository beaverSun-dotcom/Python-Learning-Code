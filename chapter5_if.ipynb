{
 "cells": [
  {
   "cell_type": "code",
   "execution_count": 3,
   "metadata": {},
   "outputs": [
    {
     "name": "stdout",
     "output_type": "stream",
     "text": [
      "Is car == 'subaru'? I predict True.\n",
      "True\n",
      "\n",
      "Is car == 'audi'? I predict False.\n",
      "False\n",
      "\n",
      "Is car == 'nisang'? I predict True.\n",
      "True\n",
      "\n",
      "Is car == 'audi'? I predict False.\n",
      "False\n",
      "\n",
      "Is car == 'car'? I predict True.\n",
      "True\n",
      "\n",
      "Is car == 'audi'? I predict False.\n",
      "False\n",
      "\n",
      "Is car == 'bus'? I predict True.\n",
      "True\n",
      "\n",
      "Is car == 'audi'? I predict False.\n",
      "False\n"
     ]
    }
   ],
   "source": [
    "# 5-1 condition testing\n",
    "car = 'subaru' \n",
    "print(\"Is car == 'subaru'? I predict True.\")\n",
    "print(car == 'subaru')\n",
    "print(\"\\nIs car == 'audi'? I predict False.\")\n",
    "print(car == 'audi')\n",
    "\n",
    "car = 'nisang' \n",
    "print(\"\\nIs car == 'nisang'? I predict True.\")\n",
    "print(car == 'nisang')\n",
    "print(\"\\nIs car == 'audi'? I predict False.\")\n",
    "print(car == 'audi')\n",
    "\n",
    "car = 'car' \n",
    "print(\"\\nIs car == 'car'? I predict True.\")\n",
    "print(car == 'car')\n",
    "print(\"\\nIs car == 'audi'? I predict False.\")\n",
    "print(car == 'audi')\n",
    "\n",
    "car = 'bus' \n",
    "print(\"\\nIs car == 'bus'? I predict True.\")\n",
    "print(car == 'bus')\n",
    "print(\"\\nIs car == 'audi'? I predict False.\")\n",
    "print(car == 'audi')"
   ]
  },
  {
   "cell_type": "code",
   "execution_count": 12,
   "metadata": {},
   "outputs": [
    {
     "name": "stdout",
     "output_type": "stream",
     "text": [
      "Are you beaver? I predict True.\n",
      "True\n",
      "\n",
      "Are you Jack? I predict False.\n",
      "False\n",
      "Is the number higher than 20 ? answer:True\n",
      "Is the number lower than 20 ? answer:False\n",
      "Is the number is 30 ? answer:False\n",
      "Is the number higher than 40 and lower than 50? answer:True\n",
      "Is the number 45 or 42? answer:True\n",
      "Is beaver in the list? True\n",
      "Is joe not in the list? False\n"
     ]
    }
   ],
   "source": [
    "# 5-2 more condition testing\n",
    "\n",
    "name = 'Beaver'\n",
    "print(\"Are you beaver? I predict True.\")\n",
    "print(name.lower() == 'beaver')\n",
    "print(\"\\nAre you Jack? I predict False.\")\n",
    "print(name == 'jack')\n",
    "\n",
    "number = 42\n",
    "print(f\"Is the number higher than 20 ? answer:{number > 20}\")\n",
    "print(f\"Is the number lower than 20 ? answer:{number < 20}\")\n",
    "print(f\"Is the number is 30 ? answer:{number == 30}\")\n",
    "print(f\"Is the number higher than 40 and lower than 50? answer:{number > 40 and number < 50}\")\n",
    "print(f\"Is the number 45 or 42? answer:{number == 40 or number == 42}\")\n",
    "\n",
    "names = ['joe', 'jack', 'ross', 'beaver']\n",
    "print(f\"Is beaver in the list? {'beaver' in names}\")\n",
    "print(f\"Is joe not in the list? {'joe' not in names}\")"
   ]
  },
  {
   "cell_type": "code",
   "execution_count": 14,
   "metadata": {},
   "outputs": [
    {
     "name": "stdout",
     "output_type": "stream",
     "text": [
      "You got 5 point!\n"
     ]
    }
   ],
   "source": [
    "# 5-3 alien color\n",
    "alien_color = 'green'\n",
    "\n",
    "if alien_color == 'green':\n",
    "    print(\"You got 5 point!\")\n",
    "\n",
    "if alien_color == 'red':\n",
    "    print(\"You got 10 point!\")"
   ]
  },
  {
   "cell_type": "code",
   "execution_count": 15,
   "metadata": {},
   "outputs": [
    {
     "name": "stdout",
     "output_type": "stream",
     "text": [
      "You got 5 point!\n",
      "You got 5 point!\n"
     ]
    }
   ],
   "source": [
    "# 5-4 alien color 2\n",
    "\n",
    "alien_color = 'green'\n",
    "\n",
    "# version 1.0\n",
    "if alien_color == 'green':\n",
    "    print(\"You got 5 point!\")\n",
    "else:\n",
    "    print(\"You got 10 point!\")\n",
    "\n",
    "# version 2.0\n",
    "if alien_color == 'green':\n",
    "    print(\"You got 5 point!\")\n",
    "if alien_color != 'green':\n",
    "    print(\"You got 10 point!\")"
   ]
  },
  {
   "cell_type": "code",
   "execution_count": 17,
   "metadata": {},
   "outputs": [
    {
     "name": "stdout",
     "output_type": "stream",
     "text": [
      "You got 15 point!\n",
      "You got 5 point!\n",
      "You got 10 point!\n"
     ]
    }
   ],
   "source": [
    "# 5-5 alien color 3\n",
    "alien_color = 'red'\n",
    "\n",
    "if alien_color == 'green':\n",
    "    print(\"You got 5 point!\")\n",
    "elif alien_color == 'yellow':\n",
    "    print(\"You got 10 point!\")\n",
    "elif alien_color == 'red':\n",
    "    print(\"You got 15 point!\")\n",
    "\n",
    "alien_color = 'green'\n",
    "\n",
    "if alien_color == 'green':\n",
    "    print(\"You got 5 point!\")\n",
    "elif alien_color == 'yellow':\n",
    "    print(\"You got 10 point!\")\n",
    "elif alien_color == 'red':\n",
    "    print(\"You got 15 point!\")\n",
    "\n",
    "alien_color = 'yellow'\n",
    "\n",
    "if alien_color == 'green':\n",
    "    print(\"You got 5 point!\")\n",
    "elif alien_color == 'yellow':\n",
    "    print(\"You got 10 point!\")\n",
    "elif alien_color == 'red':\n",
    "    print(\"You got 15 point!\")"
   ]
  },
  {
   "cell_type": "code",
   "execution_count": 18,
   "metadata": {},
   "outputs": [
    {
     "name": "stdout",
     "output_type": "stream",
     "text": [
      "You are an adult.\n"
     ]
    }
   ],
   "source": [
    "# 5-6 different stage in life\n",
    "age = 42\n",
    "\n",
    "if age < 2:\n",
    "    print(\"You are a baby.\")\n",
    "elif age >= 2 and age < 4:\n",
    "    print(\"You are a big baby.\")\n",
    "elif age >= 4 and age < 13:\n",
    "    print(\"You are a child.\")\n",
    "elif age >= 13 and age < 20:\n",
    "    print(\"You are a teenager.\")\n",
    "elif age >=20 and age < 65:\n",
    "    print(\"You are an adult.\")\n",
    "elif age >= 65:\n",
    "    print(\"You are an old man.\")"
   ]
  },
  {
   "cell_type": "code",
   "execution_count": 19,
   "metadata": {},
   "outputs": [
    {
     "name": "stdout",
     "output_type": "stream",
     "text": [
      "You really like apples!\n",
      "You really like orange!\n",
      "You really like straberrys!\n"
     ]
    }
   ],
   "source": [
    "# 5-7 favorite fruit\n",
    "fruits = ['apple', 'orange', 'straberry']\n",
    "\n",
    "if 'apple' in fruits:\n",
    "    print(\"You really like apples!\")\n",
    "if 'banana' in fruits:\n",
    "    print(\"You really like bananas!\")\n",
    "if 'orange' in fruits:\n",
    "    print(\"You really like orange!\")\n",
    "if 'straberry' in fruits:\n",
    "    print(\"You really like straberrys!\")\n",
    "if 'mango' in fruits:\n",
    "    print(\"You really like mangos!\")"
   ]
  },
  {
   "cell_type": "code",
   "execution_count": 21,
   "metadata": {},
   "outputs": [
    {
     "name": "stdout",
     "output_type": "stream",
     "text": [
      "Hello admin, would you like to see a status report?\n",
      "Hello beaver, thank you for logging in again.\n",
      "Hello jack, thank you for logging in again.\n",
      "Hello john, thank you for logging in again.\n",
      "Hello ross, thank you for logging in again.\n"
     ]
    }
   ],
   "source": [
    "# 5-8 say hi to admin\n",
    "\n",
    "users = ['admin', 'beaver', 'jack', 'john', 'ross']\n",
    "\n",
    "for user in users:\n",
    "    if user == 'admin':\n",
    "        print('Hello admin, would you like to see a status report?')\n",
    "    else:\n",
    "        print(f'Hello {user}, thank you for logging in again.')"
   ]
  },
  {
   "cell_type": "code",
   "execution_count": 25,
   "metadata": {},
   "outputs": [
    {
     "name": "stdout",
     "output_type": "stream",
     "text": [
      "We need to find some users!\n"
     ]
    }
   ],
   "source": [
    "# 5-9 if there is no users \n",
    "users = ['admin', 'beaver', 'jack', 'john', 'ross']\n",
    "users.pop(-1)\n",
    "users.pop(-1)\n",
    "users.pop(-1)\n",
    "users.pop(-1)\n",
    "users.pop(-1)\n",
    "\n",
    "\n",
    "if users:\n",
    "    for user in users:\n",
    "        if user == 'admin':\n",
    "            print('Hello admin, would you like to see a status report?')\n",
    "        else:\n",
    "            print(f'Hello {user}, thank you for logging in again.')\n",
    "else:\n",
    "    print('We need to find some users!')"
   ]
  },
  {
   "cell_type": "code",
   "execution_count": 28,
   "metadata": {},
   "outputs": [
    {
     "name": "stdout",
     "output_type": "stream",
     "text": [
      "Beaver have been used please use another name.\n",
      "jack have been used please use another name.\n",
      "You can use Rosica, since noone used it before.\n",
      "You can use Ronando, since noone used it before.\n",
      "You can use Bob, since noone used it before.\n"
     ]
    }
   ],
   "source": [
    "# 5-10 check users\n",
    "\n",
    "\n",
    "current_users = ['admin', 'Beaver', 'Jack', 'John', 'Ross']\n",
    "current_users_copy = ['admin', 'beaver', 'jack', 'john', 'ross']\n",
    "new_users = ['Beaver', 'jack', 'Rosica', 'Ronando', 'Bob']\n",
    "\n",
    "for user in new_users:\n",
    "    if user in current_users or user in current_users_copy:\n",
    "        print(f'{user} have been used please use another name.')\n",
    "    else:\n",
    "        print(f'You can use {user}, since noone used it before.')"
   ]
  },
  {
   "cell_type": "code",
   "execution_count": 30,
   "metadata": {},
   "outputs": [
    {
     "name": "stdout",
     "output_type": "stream",
     "text": [
      "1st\n",
      "2nd\n",
      "3th\n",
      "4th\n",
      "5th\n",
      "6th\n",
      "7th\n",
      "8th\n",
      "9th\n",
      "[1, 2, 3, 4, 5, 6, 7, 8, 9]\n"
     ]
    }
   ],
   "source": [
    "# 5-11 list numbers\n",
    "numbers = list(range(1,10))\n",
    "\n",
    "for number in numbers:\n",
    "    if number == 1:\n",
    "        print(f'{number}st')\n",
    "    elif number == 2:\n",
    "        print(f'{number}nd')\n",
    "    else:\n",
    "        print(f'{number}th')\n",
    "\n",
    "print(numbers)"
   ]
  },
  {
   "cell_type": "code",
   "execution_count": null,
   "metadata": {},
   "outputs": [],
   "source": []
  }
 ],
 "metadata": {
  "kernelspec": {
   "display_name": "new_nilearn",
   "language": "python",
   "name": "python3"
  },
  "language_info": {
   "codemirror_mode": {
    "name": "ipython",
    "version": 3
   },
   "file_extension": ".py",
   "mimetype": "text/x-python",
   "name": "python",
   "nbconvert_exporter": "python",
   "pygments_lexer": "ipython3",
   "version": "3.10.10"
  },
  "orig_nbformat": 4
 },
 "nbformat": 4,
 "nbformat_minor": 2
}
