{
 "cells": [
  {
   "cell_type": "code",
   "execution_count": null,
   "metadata": {},
   "outputs": [],
   "source": [
    "# 4-1 pizza\n",
    "pizzas = ['pizza hat', 'big joe', 'junk pizza']\n",
    "\n",
    "for pizza in pizzas:\n",
    "    print(f'This is a kind of pizza {pizza}.')\n",
    "    print(f'I like {pizza} pizza.')\n",
    "\n",
    "print('I really love pizza!')"
   ]
  },
  {
   "cell_type": "code",
   "execution_count": null,
   "metadata": {},
   "outputs": [],
   "source": [
    "# 4-2 animals\n",
    "\n",
    "animals = ['dog', 'cat', 'beaver']\n",
    "for animal in animals:\n",
    "    print(f'A {animal}  would make a great pet.')\n",
    "\n",
    "print('These animals are all cute, any of these animals would make a great pet!')"
   ]
  },
  {
   "cell_type": "code",
   "execution_count": null,
   "metadata": {},
   "outputs": [],
   "source": [
    "# 4-3 count to 20\n",
    "for number in range(1,21):\n",
    "    print(number)"
   ]
  },
  {
   "cell_type": "code",
   "execution_count": null,
   "metadata": {},
   "outputs": [],
   "source": [
    "# 4-4 a million\n",
    "numbers = list(range(1,1_000_001))\n",
    "for number in numbers:\n",
    "    print(number)   # output is very huge"
   ]
  },
  {
   "cell_type": "code",
   "execution_count": null,
   "metadata": {},
   "outputs": [],
   "source": [
    "# 4-5 sum a million\n",
    "numbers = list(range(1,1_000_001))\n",
    "min(numbers)\n",
    "max(numbers)\n",
    "sum(numbers)"
   ]
  },
  {
   "cell_type": "code",
   "execution_count": null,
   "metadata": {},
   "outputs": [],
   "source": [
    "# 4-6 odd numbers\n",
    "\n",
    "odd_numbers = list(range(1,21,2))\n",
    "for number in odd_numbers:\n",
    "    print(number)"
   ]
  },
  {
   "cell_type": "code",
   "execution_count": null,
   "metadata": {},
   "outputs": [],
   "source": [
    "# 4-7 A multiple of 3\n",
    "\n",
    "numbers = list(range(3,31,3))\n",
    "for number in numbers:\n",
    "    print(number)"
   ]
  },
  {
   "cell_type": "code",
   "execution_count": null,
   "metadata": {},
   "outputs": [],
   "source": [
    "# 4-8 #4-9 cubes and List resolution\n",
    "\n",
    "cube_numbers = [number**3 for number in range(1,11)]\n",
    "for number in cube_numbers:\n",
    "    print(number)"
   ]
  },
  {
   "cell_type": "code",
   "execution_count": null,
   "metadata": {},
   "outputs": [],
   "source": [
    "# 4-10 slice\n",
    "\n",
    "odd_numbers = list(range(1,21,2))\n",
    "print(odd_numbers)\n",
    "print(len(odd_numbers))\n",
    "print('The first three items in the list are:')\n",
    "for number in odd_numbers[:3]:\n",
    "    print(number)\n",
    "\n",
    "print('Three items from the middle of the list are:')\n",
    "for number in odd_numbers[4:7]:\n",
    "    print(number)\n",
    "\n",
    "print('The last three items in the list are:')\n",
    "for number in odd_numbers[-3:]:\n",
    "    print(number)"
   ]
  },
  {
   "cell_type": "code",
   "execution_count": null,
   "metadata": {},
   "outputs": [],
   "source": [
    "# 4-11 your pizza, my pizza\n",
    "my_pizzas = ['pizza hat', 'big joe', 'junk pizza']\n",
    "friend_pizzas = my_pizzas[:]\n",
    "my_pizzas.append('KFC')\n",
    "friend_pizzas.append('MC')\n",
    "print('My favorate pizzas are:')\n",
    "for pizza in my_pizzas:\n",
    "    # print(f'This is a kind of pizza {pizza}.')\n",
    "    # print(f'I like {pizza} pizza.')\n",
    "    print(pizza)\n",
    "\n",
    "print('My friend\\'s favorite pizzas are:')\n",
    "for pizza in friend_pizzas:\n",
    "    print(pizza)\n",
    "\n",
    "print('We really love pizza!')"
   ]
  },
  {
   "cell_type": "code",
   "execution_count": null,
   "metadata": {},
   "outputs": [],
   "source": [
    "# 4-12 multiple for loop\n",
    "my_foods = ['pizza','faladel','carrot cake']\n",
    "friend_foods = my_foods[:]\n",
    "my_foods.append('cookies')\n",
    "for food in my_foods:\n",
    "    print(food)\n",
    "print('*'*20)\n",
    "for food in friend_foods:\n",
    "    print(food)"
   ]
  },
  {
   "cell_type": "code",
   "execution_count": null,
   "metadata": {},
   "outputs": [],
   "source": [
    "# 4-13 buffet\n",
    "foods = ('cake','ice cream','beef','noodle','candy')\n",
    "for food in foods:\n",
    "    print(food)\n",
    "\n",
    "print('*'*20)\n",
    "new_foods = ('cake','ice cream','beef','burger','chocolete')\n",
    "for food in new_foods:\n",
    "    print(food)"
   ]
  },
  {
   "cell_type": "code",
   "execution_count": null,
   "metadata": {},
   "outputs": [],
   "source": []
  }
 ],
 "metadata": {
  "kernelspec": {
   "display_name": "base",
   "language": "python",
   "name": "python3"
  },
  "language_info": {
   "codemirror_mode": {
    "name": "ipython",
    "version": 3
   },
   "file_extension": ".py",
   "mimetype": "text/x-python",
   "name": "python",
   "nbconvert_exporter": "python",
   "pygments_lexer": "ipython3",
   "version": "3.10.9"
  },
  "orig_nbformat": 4
 },
 "nbformat": 4,
 "nbformat_minor": 2
}
