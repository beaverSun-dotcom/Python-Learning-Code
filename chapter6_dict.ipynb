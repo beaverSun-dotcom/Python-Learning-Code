{
 "cells": [
  {
   "cell_type": "code",
   "execution_count": 1,
   "metadata": {},
   "outputs": [
    {
     "name": "stdout",
     "output_type": "stream",
     "text": [
      "42\n",
      "yanan\n",
      "Zedong\n",
      "Mao\n"
     ]
    }
   ],
   "source": [
    "# 6-1 people\n",
    "\n",
    "person = {'firstname': 'Zedong', 'lastname' : 'Mao', 'age' : 42, 'city' : 'yanan'}\n",
    "print(person['age'])\n",
    "print(person['city'])\n",
    "print(person['firstname'])\n",
    "print(person['lastname'])"
   ]
  },
  {
   "cell_type": "code",
   "execution_count": 2,
   "metadata": {},
   "outputs": [
    {
     "name": "stdout",
     "output_type": "stream",
     "text": [
      "The favorite number of jack is 1\n",
      "The favorite number of ross is 2\n",
      "The favorite number of beaver is 3\n",
      "The favorite number of dick is 4\n",
      "The favorite number of john is 5\n"
     ]
    }
   ],
   "source": [
    "# 6-2 favorite number\n",
    "numbers = {\n",
    "        'jack': 1, \n",
    "        'ross': 2,\n",
    "        'beaver': 3,\n",
    "        'dick': 4,\n",
    "        'john': 5,}\n",
    "print(f'The favorite number of jack is {numbers[\"jack\"]}')\n",
    "print(f'The favorite number of ross is {numbers[\"ross\"]}')\n",
    "print(f'The favorite number of beaver is {numbers[\"beaver\"]}')\n",
    "print(f'The favorite number of dick is {numbers[\"dick\"]}')\n",
    "print(f'The favorite number of john is {numbers[\"john\"]}')"
   ]
  },
  {
   "cell_type": "code",
   "execution_count": 7,
   "metadata": {},
   "outputs": [
    {
     "name": "stdout",
     "output_type": "stream",
     "text": [
      "variable: a number that can be changed\n",
      "\n",
      "list: a list of variables, and there types can varies\n",
      "\n",
      "for: a method that can be used to do repeat work\n",
      "\n",
      "if: receive a bool value that determine weather go on or not\n",
      "\n",
      "dict: a key-value list, each key match to a certain value and type can varies\n",
      "\n"
     ]
    }
   ],
   "source": [
    "# 6-3 words list\n",
    "\n",
    "words = {\n",
    "    'variable': 'a number that can be changed',\n",
    "    'list': 'a list of variables, and there types can varies',\n",
    "    'for': 'a method that can be used to do repeat work',\n",
    "    'if': 'receive a bool value that determine weather go on or not',\n",
    "    'dict': 'a key-value list, each key match to a certain value and type can varies'}\n",
    "\n",
    "print(f'variable: {words[\"variable\"]}\\n')\n",
    "print(f'list: {words[\"list\"]}\\n')\n",
    "print(f'for: {words[\"for\"]}\\n')\n",
    "print(f'if: {words[\"if\"]}\\n')\n",
    "print(f'dict: {words[\"dict\"]}\\n')\n"
   ]
  },
  {
   "cell_type": "code",
   "execution_count": 5,
   "metadata": {},
   "outputs": [
    {
     "name": "stdout",
     "output_type": "stream",
     "text": [
      "variable: a number that can be changed\n",
      "\n",
      "list: a list of variables, and there types can varies\n",
      "\n",
      "for: a method that can be used to do repeat work\n",
      "\n",
      "if: receive a bool value that determine weather go on or not\n",
      "\n",
      "dict: a key-value list, each key match to a certain value and type can varies\n",
      "\n",
      "python: the favorite language of beaver\n",
      "\n"
     ]
    }
   ],
   "source": [
    "# 6-4 words list 2\n",
    "\n",
    "words = {\n",
    "    'variable': 'a number that can be changed',\n",
    "    'list': 'a list of variables, and there types can varies',\n",
    "    'for': 'a method that can be used to do repeat work',\n",
    "    'if': 'receive a bool value that determine weather go on or not',\n",
    "    'dict': 'a key-value list, each key match to a certain value and type can varies',\n",
    "    'python': 'the favorite language of beaver'}\n",
    "\n",
    "for word in words.keys():\n",
    "    print(f'{word}: {words[word]}\\n')"
   ]
  },
  {
   "cell_type": "code",
   "execution_count": 8,
   "metadata": {},
   "outputs": [
    {
     "name": "stdout",
     "output_type": "stream",
     "text": [
      "nile runs in egypt\n",
      "\n",
      "changjiang runs in china\n",
      "\n",
      "huanghe runs in china\n",
      "\n",
      "nile \n",
      "\n",
      "changjiang \n",
      "\n",
      "huanghe \n",
      "\n",
      "egypt \n",
      "\n",
      "china \n",
      "\n",
      "china \n",
      "\n"
     ]
    }
   ],
   "source": [
    "# 6-5 rivers\n",
    "\n",
    "rivers = {\n",
    "    'nile': 'egypt',\n",
    "    'changjiang': 'china',\n",
    "    'huanghe': 'china',\n",
    "    }\n",
    "\n",
    "for river, country in rivers.items():\n",
    "    print(f'{river} runs in {country}\\n')\n",
    "\n",
    "for river in rivers.keys():\n",
    "    print(f'{river} \\n')\n",
    "\n",
    "for country in rivers.values():\n",
    "    print(f'{country} \\n')"
   ]
  },
  {
   "cell_type": "code",
   "execution_count": 9,
   "metadata": {},
   "outputs": [
    {
     "name": "stdout",
     "output_type": "stream",
     "text": [
      "Dear jen, thank you for taking research.\n",
      "Dear edward, thank you for taking research.\n",
      "Dear beaver, please take the research.\n",
      "Dear jack, please take the research.\n",
      "Dear phil, thank you for taking research.\n",
      "Dear sarah, thank you for taking research.\n"
     ]
    }
   ],
   "source": [
    "# 6-6 investigation\n",
    "\n",
    "favorite_languages = {\n",
    "    'jen': 'python',\n",
    "    'sarah': 'C',\n",
    "    'edward': 'ruby',\n",
    "    'phil': 'python'\n",
    "}\n",
    "\n",
    "names = ['jen', 'edward', 'beaver', 'jack', 'phil', 'sarah']\n",
    "\n",
    "for name in names:\n",
    "    if name in favorite_languages.keys():\n",
    "        print(f\"Dear {name}, thank you for taking research.\")\n",
    "    else:\n",
    "        print(f\"Dear {name}, please take the research.\")\n"
   ]
  },
  {
   "cell_type": "code",
   "execution_count": 10,
   "metadata": {},
   "outputs": [
    {
     "name": "stdout",
     "output_type": "stream",
     "text": [
      "{'firstname': 'Zedong', 'lastname': 'Mao', 'age': 42, 'city': 'yanan'}\n",
      "{'firstname': 'albert', 'lastname': 'einstein', 'age': 30, 'city': 'princeton'}\n",
      "{'firstname': 'marie', 'lastname': 'curie', 'age': 28, 'city': 'paris'}\n"
     ]
    }
   ],
   "source": [
    "# 6-7 people\n",
    "\n",
    "person_0 = {'firstname': 'Zedong', 'lastname' : 'Mao', 'age' : 42, 'city' : 'yanan'}\n",
    "person_1 = {'firstname': 'albert', 'lastname' : 'einstein', 'age' : 30, 'city' : 'princeton'}\n",
    "person_2 = {'firstname': 'marie', 'lastname' : 'curie', 'age' : 28, 'city' : 'paris'}\n",
    "persons = [person_0, person_1, person_2]\n",
    "\n",
    "for person in persons:\n",
    "    print(person)"
   ]
  },
  {
   "cell_type": "code",
   "execution_count": 11,
   "metadata": {},
   "outputs": [
    {
     "name": "stdout",
     "output_type": "stream",
     "text": [
      "{'type': 'dog', 'owner': 'albert'}\n",
      "{'type': 'dog', 'owner': 'albert'}\n",
      "{'type': 'dog', 'owner': 'albert'}\n",
      "{'type': 'dog', 'owner': 'albert'}\n",
      "{'type': 'dog', 'owner': 'albert'}\n",
      "{'type': 'dog', 'owner': 'albert'}\n",
      "{'type': 'dog', 'owner': 'albert'}\n",
      "{'type': 'dog', 'owner': 'albert'}\n",
      "{'type': 'dog', 'owner': 'albert'}\n",
      "{'type': 'dog', 'owner': 'albert'}\n"
     ]
    }
   ],
   "source": [
    "# 6-8 pet\n",
    "\n",
    "pets = []\n",
    "for pet_number in range(10):\n",
    "    pet = {\n",
    "        'type': 'dog',\n",
    "        'owner': 'albert'\n",
    "    }\n",
    "    pets.append(pet)\n",
    "\n",
    "for pet in pets:\n",
    "    print(pet)"
   ]
  },
  {
   "cell_type": "code",
   "execution_count": 14,
   "metadata": {},
   "outputs": [
    {
     "name": "stdout",
     "output_type": "stream",
     "text": [
      "jack, your favorite places are like follows:\n",
      "Beijing\n",
      "Paris\n",
      "Newyork\n",
      "beaver, your favorite places are like follows:\n",
      "Beijing\n",
      "Paris\n",
      "ross, your favorite places are like follows:\n",
      "Jinan\n"
     ]
    }
   ],
   "source": [
    "# 6-9 favorite places\n",
    "\n",
    "favorite_places = {\n",
    "    'jack': ['beijing', 'paris', 'newyork'],\n",
    "    'beaver': ['beijing', 'paris'],\n",
    "    'ross': ['jinan'],\n",
    "}\n",
    "\n",
    "for name, places in favorite_places.items():\n",
    "    print(f'{name}, your favorite places are like follows:')\n",
    "    for place in places:\n",
    "        print(place.title())\n",
    "        \n"
   ]
  },
  {
   "cell_type": "code",
   "execution_count": 17,
   "metadata": {},
   "outputs": [
    {
     "name": "stdout",
     "output_type": "stream",
     "text": [
      "Dear jack, your favorite number are like follows.\n",
      "1\n",
      "2\n",
      "6\n",
      "8\n",
      "Dear ross, your favorite number are like follows.\n",
      "2\n",
      "3\n",
      "5\n",
      "7\n",
      "Dear beaver, your favorite number are like follows.\n",
      "3\n",
      "0\n",
      "Dear dick, your favorite number are like follows.\n",
      "4\n",
      "10\n",
      "2\n",
      "31\n",
      "13\n",
      "131\n",
      "1313\n",
      "Dear john, your favorite number are like follows.\n",
      "5\n",
      "12\n",
      "14\n",
      "767\n",
      "989\n"
     ]
    }
   ],
   "source": [
    "# 6-10 favorite numbers 2\n",
    "numbers = {\n",
    "        'jack': [1, 2, 6, 8], \n",
    "        'ross': [2, 3, 5, 7],\n",
    "        'beaver': [3, 0],\n",
    "        'dick': [4, 10, 2, 31, 13, 131, 1313],\n",
    "        'john': [5, 12, 14, 767,989],}\n",
    "\n",
    "for name, numbers_list in numbers.items():\n",
    "    print(f'Dear {name}, your favorite number are like follows.')\n",
    "    for number in numbers_list:\n",
    "        print(number)"
   ]
  },
  {
   "cell_type": "code",
   "execution_count": 22,
   "metadata": {},
   "outputs": [
    {
     "name": "stdout",
     "output_type": "stream",
     "text": [
      "Below are the introduction of Jinan.\n",
      "The nation is china\n",
      "The population is 65\n",
      "The fact is It is a real city\n",
      "Below are the introduction of Beijing.\n",
      "The nation is china\n",
      "The population is 87\n",
      "The fact is It is the capital city\n",
      "Below are the introduction of Newyork.\n",
      "The nation is united states\n",
      "The population is 565\n",
      "The fact is It is a big city\n"
     ]
    }
   ],
   "source": [
    "# 6-11 cities\n",
    "cities = {\n",
    "    'jinan':{\n",
    "        'nation': 'china',\n",
    "        'population': 65,\n",
    "        'fact': 'It is a real city',\n",
    "    },\n",
    "    'beijing':{\n",
    "        'nation': 'china',\n",
    "        'population': 87,\n",
    "        'fact': 'It is the capital city',\n",
    "    },\n",
    "    'newyork':{\n",
    "        'nation': 'united states',\n",
    "        'population': 565,\n",
    "        'fact': 'It is a big city',\n",
    "    },\n",
    "}\n",
    "\n",
    "for city, info in cities.items():\n",
    "    print(f'Below are the introduction of {city.title()}.')\n",
    "    print(f\"The nation is {info['nation']}\")\n",
    "    print(f\"The population is {info['population']}\")\n",
    "    print(f\"The fact is {info['fact']}\")"
   ]
  },
  {
   "cell_type": "code",
   "execution_count": 24,
   "metadata": {},
   "outputs": [
    {
     "name": "stdout",
     "output_type": "stream",
     "text": [
      "Below are the introduction of Jinan.\n",
      "The nation of jinan is china\n",
      "The population of jinan is 65\n",
      "The fact of jinan is It is a real city\n",
      "Below are the introduction of Beijing.\n",
      "The nation of beijing is china\n",
      "The population of beijing is 87\n",
      "The fact of beijing is It is the capital city\n",
      "Below are the introduction of Newyork.\n",
      "The nation of newyork is united states\n",
      "The population of newyork is 565\n",
      "The fact of newyork is It is a big city\n",
      "Below are the introduction of Chengdu.\n",
      "The nation of chengdu is china\n",
      "The population of chengdu is 89\n",
      "The fact of chengdu is That is where beaver lives now.\n"
     ]
    }
   ],
   "source": [
    "# 6-12 expand\n",
    "cities = {\n",
    "    'jinan':{\n",
    "        'nation': 'china',\n",
    "        'population': 65,\n",
    "        'fact': 'It is a real city',\n",
    "    },\n",
    "    'beijing':{\n",
    "        'nation': 'china',\n",
    "        'population': 87,\n",
    "        'fact': 'It is the capital city',\n",
    "    },\n",
    "    'newyork':{\n",
    "        'nation': 'united states',\n",
    "        'population': 565,\n",
    "        'fact': 'It is a big city',\n",
    "    },\n",
    "}\n",
    "\n",
    "cities['chengdu'] = {\n",
    "    'nation': 'china',\n",
    "    'population': 89,\n",
    "    'fact': 'That is where beaver lives now.'\n",
    "}\n",
    "\n",
    "for city, info in cities.items():\n",
    "    print(f'Below are the introduction of {city.title()}.')\n",
    "    for k, v in info.items():\n",
    "        print(f\"The {k} of {city} is {v}\")"
   ]
  },
  {
   "cell_type": "code",
   "execution_count": null,
   "metadata": {},
   "outputs": [],
   "source": []
  }
 ],
 "metadata": {
  "kernelspec": {
   "display_name": "base",
   "language": "python",
   "name": "python3"
  },
  "language_info": {
   "codemirror_mode": {
    "name": "ipython",
    "version": 3
   },
   "file_extension": ".py",
   "mimetype": "text/x-python",
   "name": "python",
   "nbconvert_exporter": "python",
   "pygments_lexer": "ipython3",
   "version": "3.10.9"
  },
  "orig_nbformat": 4
 },
 "nbformat": 4,
 "nbformat_minor": 2
}
