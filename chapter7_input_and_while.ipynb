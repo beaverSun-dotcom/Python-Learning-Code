{
 "cells": [
  {
   "cell_type": "code",
   "execution_count": 1,
   "metadata": {},
   "outputs": [
    {
     "name": "stdout",
     "output_type": "stream",
     "text": [
      "Let me see if I can find you a Subaru.\n"
     ]
    }
   ],
   "source": [
    "# 7-1 renting car\n",
    "\n",
    "car = input(\"What kind of car do you want to rent ?\")\n",
    "print(f\"Let me see if I can find you a {car}.\")"
   ]
  },
  {
   "cell_type": "code",
   "execution_count": 2,
   "metadata": {},
   "outputs": [
    {
     "name": "stdout",
     "output_type": "stream",
     "text": [
      "I am sorry, there is no table.\n"
     ]
    }
   ],
   "source": [
    "# 7-2 book a table in resturant\n",
    "\n",
    "people = input(\"How many people come to eat ?\")\n",
    "\n",
    "if int(people) > 8:\n",
    "    print(\"I am sorry, there is no table.\")\n",
    "else:\n",
    "    print(\"There is free table please come.\")\n"
   ]
  },
  {
   "cell_type": "code",
   "execution_count": 3,
   "metadata": {},
   "outputs": [
    {
     "name": "stdout",
     "output_type": "stream",
     "text": [
      "100 is an integer multiple of 10\n"
     ]
    }
   ],
   "source": [
    "# 7-3 an integer multiple of 10\n",
    "\n",
    "number = input(\"Please input a number.\")\n",
    "\n",
    "if int(number) % 10 == 0:\n",
    "    print(f\"{number} is an integer multiple of 10\")\n",
    "else:\n",
    "    print(f\"{number} is not an integer multiple of 10\")"
   ]
  },
  {
   "cell_type": "code",
   "execution_count": 4,
   "metadata": {},
   "outputs": [
    {
     "name": "stdout",
     "output_type": "stream",
     "text": [
      "We will add onion to pizza.\n",
      "We will add asas to pizza.\n",
      "We will add dadas to pizza.\n"
     ]
    }
   ],
   "source": [
    "# 7-4 pizza toppings\n",
    "\n",
    "while True:\n",
    "    topping = input(\"Please tell us what kind of toppings do you want to add.\")\n",
    "    if topping == 'quit':\n",
    "        break\n",
    "    else:\n",
    "        print(f\"We will add {topping} to pizza.\")"
   ]
  },
  {
   "cell_type": "code",
   "execution_count": 8,
   "metadata": {},
   "outputs": [
    {
     "name": "stdout",
     "output_type": "stream",
     "text": [
      "There will be 15 dollars.\n",
      "There will be 15 dollars.\n",
      "There will be 15 dollars.\n",
      "There will be 15 dollars.\n",
      "There will be 15 dollars.\n",
      "There will be 15 dollars.\n",
      "There will be 15 dollars.\n",
      "There will be 15 dollars.\n",
      "There will be 10 dollars.\n",
      "There will be 10 dollars.\n",
      "There will be no charge.\n"
     ]
    }
   ],
   "source": [
    "# 7-5 movie tickets\n",
    "\n",
    "while True:\n",
    "    age = input(\"How old are you ?\")\n",
    "    if age == 'quit':\n",
    "        break\n",
    "    elif not age:\n",
    "        print(\"Please enter your age.\") \n",
    "    elif int(age) < 3:\n",
    "        print(\"There will be no charge.\")\n",
    "    elif int(age) >= 3 and int(age) <12:\n",
    "        print(\"There will be 10 dollars.\")\n",
    "    elif int(age) > 12:\n",
    "        print(\"There will be 15 dollars.\")"
   ]
  },
  {
   "cell_type": "code",
   "execution_count": 12,
   "metadata": {},
   "outputs": [
    {
     "name": "stdout",
     "output_type": "stream",
     "text": [
      "We will add adsad to pizza.\n"
     ]
    }
   ],
   "source": [
    "# 7-6 three ways out\n",
    "\n",
    "# first way\n",
    "active = True\n",
    "while active:\n",
    "    topping = input(\"Please tell us what kind of toppings do you want to add.\")\n",
    "    if topping == 'quit':\n",
    "        active = False\n",
    "    else:\n",
    "        print(f\"We will add {topping} to pizza.\")\n",
    "\n",
    "\n",
    "## second way\n",
    "# topping = ''\n",
    "# while topping != 'quit':\n",
    "#     topping = input(\"Please tell us what kind of toppings do you want to add.\")\n",
    "#     if topping != 'quit':    \n",
    "#         print(f\"We will add {topping} to pizza.\")\n",
    "\n",
    "# # third way\n",
    "# while True:\n",
    "#     topping = input(\"Please tell us what kind of toppings do you want to add.\")\n",
    "#     if topping == 'quit':\n",
    "#         break\n",
    "#     else:\n",
    "#         print(f\"We will add {topping} to pizza.\")\n"
   ]
  },
  {
   "cell_type": "code",
   "execution_count": 13,
   "metadata": {},
   "outputs": [
    {
     "ename": "KeyboardInterrupt",
     "evalue": "",
     "output_type": "error",
     "traceback": [
      "\u001b[1;31m---------------------------------------------------------------------------\u001b[0m",
      "\u001b[1;31mKeyboardInterrupt\u001b[0m                         Traceback (most recent call last)",
      "Cell \u001b[1;32mIn[13], line 4\u001b[0m\n\u001b[0;32m      1\u001b[0m \u001b[39m# 7-7 infinite loop\u001b[39;00m\n\u001b[0;32m      3\u001b[0m x\u001b[39m=\u001b[39m \u001b[39m1\u001b[39m\n\u001b[1;32m----> 4\u001b[0m \u001b[39mwhile\u001b[39;00m x:\n\u001b[0;32m      5\u001b[0m     x\u001b[39m=\u001b[39m\u001b[39m1\u001b[39m\n",
      "\u001b[1;31mKeyboardInterrupt\u001b[0m: "
     ]
    }
   ],
   "source": [
    "# 7-7 infinite loop\n",
    "\n",
    "x= 1\n",
    "while x:\n",
    "    x=1"
   ]
  },
  {
   "cell_type": "code",
   "execution_count": 14,
   "metadata": {},
   "outputs": [
    {
     "name": "stdout",
     "output_type": "stream",
     "text": [
      "I made your sandwich_D.\n",
      "I made your sandwich_C.\n",
      "I made your sandwich_B.\n",
      "I made your sandwich_A.\n",
      "sandwich_D\n",
      "sandwich_C\n",
      "sandwich_B\n",
      "sandwich_A\n"
     ]
    }
   ],
   "source": [
    "# 7-8 delicatessen\n",
    "\n",
    "sandwich_orders = ['sandwich_A', 'sandwich_B', 'sandwich_C', 'sandwich_D']\n",
    "finished_sandwich = []\n",
    "while sandwich_orders:\n",
    "    sandwich = sandwich_orders.pop()\n",
    "    print(f\"I made your {sandwich}.\")\n",
    "    finished_sandwich.append(sandwich)\n",
    "\n",
    "for sandwich in finished_sandwich:\n",
    "    print(sandwich)\n",
    "        "
   ]
  },
  {
   "cell_type": "code",
   "execution_count": 15,
   "metadata": {},
   "outputs": [
    {
     "name": "stdout",
     "output_type": "stream",
     "text": [
      "We are out of pastrami\n",
      "I made your sandwich_D.\n",
      "I made your sandwich_C.\n",
      "I made your sandwich_B.\n",
      "I made your sandwich_A.\n",
      "sandwich_D\n",
      "sandwich_C\n",
      "sandwich_B\n",
      "sandwich_A\n"
     ]
    }
   ],
   "source": [
    "# 7-8 out of pastrami\n",
    "\n",
    "sandwich_orders = ['sandwich_A', 'pastrami','sandwich_B', 'pastrami','sandwich_C', 'sandwich_D','pastrami']\n",
    "finished_sandwich = []\n",
    "\n",
    "print(\"We are out of pastrami\")\n",
    "while 'pastrami' in sandwich_orders:\n",
    "    sandwich_orders.remove('pastrami')\n",
    "\n",
    "\n",
    "while sandwich_orders:\n",
    "    sandwich = sandwich_orders.pop()\n",
    "    print(f\"I made your {sandwich}.\")\n",
    "    finished_sandwich.append(sandwich)\n",
    "\n",
    "for sandwich in finished_sandwich:\n",
    "    print(sandwich)\n",
    "        "
   ]
  },
  {
   "cell_type": "code",
   "execution_count": 16,
   "metadata": {},
   "outputs": [
    {
     "name": "stdout",
     "output_type": "stream",
     "text": [
      "=====Results=====\n",
      "beaver want to go to Paris.\n"
     ]
    }
   ],
   "source": [
    "# 7-10 dream vacation\n",
    "\n",
    "places = {}\n",
    "active = True\n",
    "while active == True:\n",
    "    name = input(\"Please enter your name.\")\n",
    "    place = input(f\"Dear {name}, if you could visit one place in the world, where would you go?\")\n",
    "    places[name] = place\n",
    "    repeat = input(\"Is there anyone else will take the test?\")\n",
    "    if repeat == 'no':\n",
    "        active = False\n",
    "\n",
    "print('='*5 +'Results' + '=' * 5)\n",
    "for name, place in places.items():\n",
    "    print(f\"{name} want to go to {place}.\")"
   ]
  },
  {
   "cell_type": "code",
   "execution_count": null,
   "metadata": {},
   "outputs": [],
   "source": []
  }
 ],
 "metadata": {
  "kernelspec": {
   "display_name": "base",
   "language": "python",
   "name": "python3"
  },
  "language_info": {
   "codemirror_mode": {
    "name": "ipython",
    "version": 3
   },
   "file_extension": ".py",
   "mimetype": "text/x-python",
   "name": "python",
   "nbconvert_exporter": "python",
   "pygments_lexer": "ipython3",
   "version": "3.10.9"
  },
  "orig_nbformat": 4
 },
 "nbformat": 4,
 "nbformat_minor": 2
}
