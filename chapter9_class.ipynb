{
 "cells": [
  {
   "cell_type": "code",
   "execution_count": 1,
   "metadata": {},
   "outputs": [
    {
     "name": "stdout",
     "output_type": "stream",
     "text": [
      "Beaver\n",
      "chinese food\n",
      "The name of the resturant_name is Jack, and its cuision type is Brition\n",
      "It's opening\n"
     ]
    }
   ],
   "source": [
    "# 9-1 resturant\n",
    "\n",
    "class resturant:\n",
    "    '''create a resturant'''\n",
    "    def __init__(self, resturant_name, cuision_type):\n",
    "        self.resturant_name = resturant_name\n",
    "        self.cuision_type = cuision_type\n",
    "\n",
    "    def describe_resturant(self):\n",
    "        print(f\"The name of the resturant_name is {self.resturant_name}, and its cuision type is {self.cuision_type}\") \n",
    "\n",
    "    def open_resturant():\n",
    "        print(\"It's opening\")\n",
    "\n",
    "resturant1 = resturant(\"Beaver\", \"chinese food\")\n",
    "print(resturant1.resturant_name)\n",
    "print(resturant1.cuision_type)\n",
    "resturant.describe_resturant(\"Jack\", \"British\")\n",
    "resturant.open_resturant()\n"
   ]
  },
  {
   "cell_type": "code",
   "execution_count": 4,
   "metadata": {},
   "outputs": [
    {
     "name": "stdout",
     "output_type": "stream",
     "text": [
      "The name of the resturant_name is beaver, and its cuision type is chinese food\n",
      "The name of the resturant_name is Jack, and its cuision type is British\n",
      "The name of the resturant_name is Naluto, and its cuision type is Japan\n"
     ]
    }
   ],
   "source": [
    "# 9-2 three resturants\n",
    "\n",
    "class resturant:\n",
    "    '''create a resturant'''\n",
    "    def __init__(self, resturant_name, cuision_type):\n",
    "        self.resturant_name = resturant_name\n",
    "        self.cuision_type = cuision_type\n",
    "\n",
    "    def describe_resturant(self):\n",
    "        print(f\"The name of the resturant_name is {self.resturant_name}, and its cuision type is {self.cuision_type}\") \n",
    "\n",
    "    def open_resturant():\n",
    "        print(\"It's opening\")\n",
    "\n",
    "resturanta = resturant(\"beaver\", \"chinese food\")\n",
    "resturantb = resturant(\"Jack\", \"British\")\n",
    "resturantc = resturant(\"Naluto\", \"Japan\")\n",
    "resturanta.describe_resturant()\n",
    "resturantb.describe_resturant()\n",
    "resturantc.describe_resturant()\n"
   ]
  },
  {
   "cell_type": "code",
   "execution_count": 6,
   "metadata": {},
   "outputs": [
    {
     "name": "stdout",
     "output_type": "stream",
     "text": [
      "The name of the user is Beaver Sun\n",
      "Hello Beaver Sun\n",
      "The name of the user is Jack Ma\n",
      "Hello Jack Ma\n"
     ]
    }
   ],
   "source": [
    "# 9-3 user\n",
    "class User:\n",
    "    '''some information about a user'''\n",
    "    def __init__(self, first_name, last_name):\n",
    "        self.first_name = first_name\n",
    "        self.last_name = last_name\n",
    "\n",
    "    def describe_user(self):\n",
    "        print(f\"The name of the user is {self.first_name} {self.last_name}\")\n",
    "    \n",
    "    def greet_user(self):\n",
    "        print(f\"Hello {self.first_name} {self.last_name}\")\n",
    "\n",
    "user1 = User(\"Beaver\", \"Sun\")\n",
    "user2 = User(\"Jack\", \"Ma\")\n",
    "user1.describe_user()\n",
    "user1.greet_user()\n",
    "user2.describe_user()\n",
    "user2.greet_user()"
   ]
  },
  {
   "cell_type": "code",
   "execution_count": 10,
   "metadata": {},
   "outputs": [
    {
     "data": {
      "text/plain": [
       "'The name of the resturant_name is Jack, and its cuision type is British, today has 18 customers'"
      ]
     },
     "execution_count": 10,
     "metadata": {},
     "output_type": "execute_result"
    }
   ],
   "source": [
    "# 9-4 men in the resturant\n",
    "class resturant:\n",
    "    '''create a resturant'''\n",
    "    def __init__(self, resturant_name, cuision_type):\n",
    "        self.resturant_name = resturant_name\n",
    "        self.cuision_type = cuision_type\n",
    "        self.number_served = 0\n",
    "\n",
    "    def describe_resturant(self):\n",
    "        description = f\"The name of the resturant_name is {self.resturant_name}, and its cuision type is {self.cuision_type}, today has {self.number_served} customers\"\n",
    "        return description\n",
    "\n",
    "    def open_resturant():\n",
    "        print(\"It's opening\")\n",
    "\n",
    "    def set_number_served(self, number):\n",
    "        self.number_served = number\n",
    "\n",
    "    def increment_number_served(self, increase):\n",
    "        self.number_served += increase\n",
    "\n",
    "\n",
    "resturant1 = resturant(\"Jack\", \"British\")\n",
    "resturant1.describe_resturant()\n",
    "resturant1.set_number_served(12)\n",
    "resturant1.describe_resturant()\n",
    "resturant1.increment_number_served(6)\n",
    "resturant1.describe_resturant()"
   ]
  },
  {
   "cell_type": "code",
   "execution_count": 12,
   "metadata": {},
   "outputs": [
    {
     "name": "stdout",
     "output_type": "stream",
     "text": [
      "2\n",
      "0\n"
     ]
    }
   ],
   "source": [
    "# 9-5 number of attempts to log in\n",
    "class User:\n",
    "    '''some information about a user'''\n",
    "    def __init__(self, first_name, last_name, login_attempts):\n",
    "        self.first_name = first_name\n",
    "        self.last_name = last_name\n",
    "        self.login_attemps = login_attempts\n",
    "    def describe_user(self):\n",
    "        print(f\"The name of the user is {self.first_name} {self.last_name}\")\n",
    "    \n",
    "    def greet_user(self):\n",
    "        print(f\"Hello {self.first_name} {self.last_name}\")\n",
    "\n",
    "    def increment_login_attempts(self):\n",
    "        self.login_attemps += 1\n",
    "\n",
    "    def reset_login_attempts(self):\n",
    "        self.login_attemps = 0\n",
    "\n",
    "beaver = User(\"Beaver\", \"Sun\", 0)\n",
    "beaver.increment_login_attempts()\n",
    "beaver.increment_login_attempts()\n",
    "print(beaver.login_attemps)\n",
    "beaver.reset_login_attempts()\n",
    "print(beaver.login_attemps)\n",
    "\n",
    "\n"
   ]
  },
  {
   "cell_type": "code",
   "execution_count": 1,
   "metadata": {},
   "outputs": [
    {
     "name": "stdout",
     "output_type": "stream",
     "text": [
      "The icecream flavor is chocolete\n",
      "The icecream flavor is milk\n",
      "The icecream flavor is mango\n"
     ]
    }
   ],
   "source": [
    "# 9-6 ice cream shop\n",
    "class resturant:\n",
    "    '''create a resturant'''\n",
    "    def __init__(self, resturant_name, cuision_type):\n",
    "        self.resturant_name = resturant_name\n",
    "        self.cuision_type = cuision_type\n",
    "        self.number_served = 0\n",
    "\n",
    "    def describe_resturant(self):\n",
    "        description = f\"The name of the resturant_name is {self.resturant_name}, and its cuision type is {self.cuision_type}, today has {self.number_served} customers\"\n",
    "        return description\n",
    "\n",
    "    def open_resturant():\n",
    "        print(\"It's opening\")\n",
    "\n",
    "    def set_number_served(self, number):\n",
    "        self.number_served = number\n",
    "\n",
    "    def increment_number_served(self, increase):\n",
    "        self.number_served += increase\n",
    "\n",
    "class IceCreamStand(resturant):\n",
    "    def __init__(self, resturant_name, cuision_type):\n",
    "        super().__init__(resturant_name, cuision_type)\n",
    "        self.flavor = ['chocolete', 'milk', 'mango']\n",
    "\n",
    "    def describe_icecream(self):\n",
    "        for icecream in self.flavor:\n",
    "            print(f\"The icecream flavor is {icecream}\")\n",
    "\n",
    "Icecream1 = IceCreamStand(\"jack\", 'chinese')\n",
    "Icecream1.describe_icecream()    "
   ]
  },
  {
   "cell_type": "code",
   "execution_count": 2,
   "metadata": {},
   "outputs": [
    {
     "name": "stdout",
     "output_type": "stream",
     "text": [
      "Admin can can delete post\n",
      "Admin can can add post\n",
      "Admin can can ban user\n"
     ]
    }
   ],
   "source": [
    "# 9-7 administer\n",
    "class User:\n",
    "    '''some information about a user'''\n",
    "    def __init__(self, first_name, last_name, login_attempts):\n",
    "        self.first_name = first_name\n",
    "        self.last_name = last_name\n",
    "        self.login_attemps = login_attempts\n",
    "    def describe_user(self):\n",
    "        print(f\"The name of the user is {self.first_name} {self.last_name}\")\n",
    "    \n",
    "    def greet_user(self):\n",
    "        print(f\"Hello {self.first_name} {self.last_name}\")\n",
    "\n",
    "    def increment_login_attempts(self):\n",
    "        self.login_attemps += 1\n",
    "\n",
    "    def reset_login_attempts(self):\n",
    "        self.login_attemps = 0\n",
    "\n",
    "class Admin(User):\n",
    "    '''A special user'''\n",
    "    def __init__(self, first_name, last_name, login_attempts):\n",
    "        super().__init__(first_name, last_name, login_attempts)\n",
    "        self.privileges = ['can delete post', 'can add post', 'can ban user']\n",
    "\n",
    "    def show_privileges(self):\n",
    "        for privilege in self.privileges:\n",
    "            print(f\"Admin can {privilege}\")\n",
    "\n",
    "administer = Admin('Beaver', 'Sun', 0)\n",
    "administer.show_privileges()"
   ]
  },
  {
   "cell_type": "code",
   "execution_count": 3,
   "metadata": {},
   "outputs": [
    {
     "name": "stdout",
     "output_type": "stream",
     "text": [
      "Admin can can delete post\n",
      "Admin can can add post\n",
      "Admin can can ban user\n"
     ]
    }
   ],
   "source": [
    "# 9-8 privileges\n",
    "class User:\n",
    "    '''some information about a user'''\n",
    "    def __init__(self, first_name, last_name, login_attempts):\n",
    "        self.first_name = first_name\n",
    "        self.last_name = last_name\n",
    "        self.login_attemps = login_attempts\n",
    "    def describe_user(self):\n",
    "        print(f\"The name of the user is {self.first_name} {self.last_name}\")\n",
    "    \n",
    "    def greet_user(self):\n",
    "        print(f\"Hello {self.first_name} {self.last_name}\")\n",
    "\n",
    "    def increment_login_attempts(self):\n",
    "        self.login_attemps += 1\n",
    "\n",
    "    def reset_login_attempts(self):\n",
    "        self.login_attemps = 0\n",
    "        \n",
    "class Privileges:\n",
    "    def __init__(self):\n",
    "        self.privileges = ['can delete post', 'can add post', 'can ban user']\n",
    "\n",
    "    def show_privileges(self):\n",
    "        for privilege in self.privileges:\n",
    "            print(f\"Admin can {privilege}\")\n",
    "\n",
    "\n",
    "class Admin(User):\n",
    "    '''A special user'''\n",
    "    def __init__(self, first_name, last_name, login_attempts):\n",
    "        super().__init__(first_name, last_name, login_attempts)\n",
    "        self.privileges = Privileges()\n",
    "\n",
    "administer = Admin('Beaver', 'Sun', 0)\n",
    "administer.privileges.show_privileges()\n"
   ]
  },
  {
   "cell_type": "code",
   "execution_count": 7,
   "metadata": {},
   "outputs": [
    {
     "name": "stdout",
     "output_type": "stream",
     "text": [
      "2019 Tesla Model S\n",
      "This car has a 75kwh battery\n",
      "This car can go about 260 miles on a full charge\n",
      "This car can go about 260 miles on a full charge\n",
      "This car can go about 315 miles on a full charge\n"
     ]
    }
   ],
   "source": [
    "# 9-9 upgrade battery\n",
    "class Car:\n",
    "    '''one simple attempts to imitate the car'''\n",
    "    def __init__(self, make, model, year) -> None:\n",
    "        self.make = make\n",
    "        self.model = model\n",
    "        self.year = year \n",
    "        self.odometer_reading = 0\n",
    "\n",
    "    def get_descriptive_name(self):\n",
    "        long_name = f\"{self.year} {self.make} {self.model}\"\n",
    "        return long_name.title()\n",
    "    \n",
    "    def read_odometer(self):\n",
    "        print(f\"This car has {self.odometer_reading} miles on it\")\n",
    "\n",
    "    def update_odometer(self, mileage):\n",
    "        if mileage >= self.odometer_reading:\n",
    "            self.odometer_reading = mileage\n",
    "        else:\n",
    "            print(\"You can not do that!\")\n",
    "\n",
    "    def increment_odometer(self, miles):\n",
    "        self.odometer_reading += miles\n",
    "\n",
    "class Battery:\n",
    "    def __init__(self, battery_size = 75) -> None:\n",
    "        self.battery_size = battery_size\n",
    "    \n",
    "    def describe_battery(self):\n",
    "        print(f\"This car has a {self.battery_size}kwh battery\")\n",
    "\n",
    "    def get_range(self):\n",
    "        if self.battery_size == 75:\n",
    "            range = 260\n",
    "        elif self.battery_size == 100:\n",
    "            range = 315\n",
    "        \n",
    "        print(f\"This car can go about {range} miles on a full charge\")\n",
    "\n",
    "    def upgrade_battery(self):\n",
    "        if self.battery_size != 100:\n",
    "            self.battery_size = 100\n",
    "\n",
    "\n",
    "class ElectricCar(Car):\n",
    "    def __init__(self, make, model, year) -> None:\n",
    "        super().__init__(make, model, year)\n",
    "        self.battery = Battery()\n",
    "\n",
    "my_tesla = ElectricCar('tesla', 'model s', 2019)\n",
    "print(my_tesla.get_descriptive_name())\n",
    "my_tesla.battery.describe_battery()\n",
    "my_tesla.battery.get_range()\n",
    "\n",
    "my_tesla2 = ElectricCar('tesla', 'model y', 2010)\n",
    "my_tesla2.battery.get_range()\n",
    "my_tesla2.battery.upgrade_battery()\n",
    "my_tesla2.battery.get_range()\n",
    "\n",
    "\n"
   ]
  },
  {
   "cell_type": "code",
   "execution_count": 3,
   "metadata": {},
   "outputs": [
    {
     "name": "stdout",
     "output_type": "stream",
     "text": [
      "chinese\n"
     ]
    }
   ],
   "source": [
    "# 9-10 import resturant\n",
    "from restaurant import resturant\n",
    "\n",
    "resturant1 = resturant(\"beaver\", \"chinese\")\n",
    "resturant1.describe_resturant()\n",
    "print(f\"{resturant1.cuision_type}\")"
   ]
  },
  {
   "cell_type": "code",
   "execution_count": 4,
   "metadata": {},
   "outputs": [
    {
     "name": "stdout",
     "output_type": "stream",
     "text": [
      "Admin can can delete post\n",
      "Admin can can add post\n",
      "Admin can can ban user\n"
     ]
    }
   ],
   "source": [
    "# 9-11 import admin\n",
    "from Admin import User, Admin, Privileges\n",
    "\n",
    "administer = Admin('beaver', 'sun', 0)\n",
    "administer.privileges.show_privileges()"
   ]
  },
  {
   "cell_type": "code",
   "execution_count": 5,
   "metadata": {},
   "outputs": [
    {
     "name": "stdout",
     "output_type": "stream",
     "text": [
      "Admin can can delete post\n",
      "Admin can can add post\n",
      "Admin can can ban user\n"
     ]
    }
   ],
   "source": [
    "# 9-12 multiple module \n",
    "from User import User\n",
    "from Admin import Admin, Privileges\n",
    "administer1 = Admin('BEAVER', 'SUN', 1)\n",
    "administer1.privileges.show_privileges()"
   ]
  },
  {
   "cell_type": "code",
   "execution_count": 9,
   "metadata": {},
   "outputs": [
    {
     "name": "stdout",
     "output_type": "stream",
     "text": [
      "1\n",
      "2\n",
      "3\n",
      "6\n",
      "2\n",
      "6\n",
      "4\n",
      "4\n",
      "3\n",
      "1\n",
      "4\n",
      "3\n",
      "2\n",
      "1\n",
      "4\n",
      "8\n",
      "2\n",
      "4\n",
      "10\n",
      "10\n",
      "13\n",
      "14\n",
      "13\n",
      "15\n",
      "1\n",
      "10\n",
      "19\n",
      "15\n",
      "5\n",
      "8\n"
     ]
    }
   ],
   "source": [
    "# 9-13 dice\n",
    "import random\n",
    "\n",
    "class Die:\n",
    "    def __init__(self, sides = 6) -> None:\n",
    "        self.sides = sides\n",
    "\n",
    "    def roll_die(self):\n",
    "        print(random.randint(1,self.sides))\n",
    "\n",
    "six_sides_dice = Die()\n",
    "for i in range(10):\n",
    "    six_sides_dice.roll_die()\n",
    "    i = i + 1\n",
    "\n",
    "ten_sides_dice = Die(10)\n",
    "for i in range(10):\n",
    "    ten_sides_dice.roll_die()\n",
    "    i = i + 1\n",
    "\n",
    "twenty_sides_dice = Die(20)\n",
    "for i in range(10):\n",
    "    twenty_sides_dice.roll_die()\n",
    "    i = i + 1"
   ]
  },
  {
   "cell_type": "code",
   "execution_count": 14,
   "metadata": {},
   "outputs": [
    {
     "name": "stdout",
     "output_type": "stream",
     "text": [
      "If you get the following word, you win:[99, 76, 's', 12]\n"
     ]
    }
   ],
   "source": [
    "# 9-14 lottery\n",
    "import random\n",
    "key_words = [1, 3, 5, 12, 9, 14, 99, 76, 21, 67, 'b', 'a', 'v', 's', 'j']\n",
    "bingo = []\n",
    "for i in range(4):\n",
    "    \n",
    "    index = random.randint(0,len(key_words)-1)\n",
    "    bingo.append(key_words[index])\n",
    "\n",
    "print(f\"If you get the following word, you win:{bingo}\")"
   ]
  },
  {
   "cell_type": "code",
   "execution_count": 16,
   "metadata": {},
   "outputs": [
    {
     "name": "stdout",
     "output_type": "stream",
     "text": [
      "If you get the following word, you win:['a', 's', 99, 'a']\n",
      "Congrates, you got what you want!, it takes you 39470 times\n"
     ]
    }
   ],
   "source": [
    "# 9-15 analyse lottery\n",
    "import random\n",
    "import operator\n",
    "key_words = [1, 3, 5, 12, 9, 14, 99, 76, 21, 67, 'b', 'a', 'v', 's', 'j']\n",
    "bingo = []\n",
    "for i in range(4):\n",
    "    \n",
    "    index = random.randint(0,len(key_words)-1)\n",
    "    bingo.append(key_words[index])\n",
    "\n",
    "print(f\"If you get the following word, you win:{bingo}\")\n",
    "\n",
    "j=0\n",
    "while True:\n",
    "    my_ticket = []\n",
    "    \n",
    "    for i in range(4):\n",
    "        index = random.randint(0,len(key_words)-1)\n",
    "        my_ticket.append(key_words[index])\n",
    "    if operator.eq(my_ticket, bingo):\n",
    "        print(f\"Congrates, you got what you want!, it takes you {j} times\")\n",
    "        break\n",
    "    else:\n",
    "        j = j + 1\n"
   ]
  }
 ],
 "metadata": {
  "kernelspec": {
   "display_name": "base",
   "language": "python",
   "name": "python3"
  },
  "language_info": {
   "codemirror_mode": {
    "name": "ipython",
    "version": 3
   },
   "file_extension": ".py",
   "mimetype": "text/x-python",
   "name": "python",
   "nbconvert_exporter": "python",
   "pygments_lexer": "ipython3",
   "version": "3.10.9"
  },
  "orig_nbformat": 4
 },
 "nbformat": 4,
 "nbformat_minor": 2
}
